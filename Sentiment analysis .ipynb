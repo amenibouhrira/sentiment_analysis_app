{
 "cells": [
  {
   "cell_type": "markdown",
   "id": "7c5d458a",
   "metadata": {},
   "source": [
    "# Sentiment analysis "
   ]
  },
  {
   "cell_type": "markdown",
   "id": "dfee14b3",
   "metadata": {},
   "source": [
    "This mini-project entitled 'Sentiment analysis' which essentially takes place in 3 stages. Starting with extracting text from audio with the 'speech_recognition' library. Once we have the text we started translating the text into Arabic with the 'deep_translator' library. And finally we chose the Bert model which is based on transformers and we did the fine-tune from the tensorflow_datasets database for the sentiment analysis task."
   ]
  },
  {
   "cell_type": "markdown",
   "id": "a13ee04a",
   "metadata": {},
   "source": [
    "# 1-Step1 : voice to text"
   ]
  },
  {
   "cell_type": "code",
   "execution_count": 1,
   "id": "fe48e72f",
   "metadata": {},
   "outputs": [],
   "source": [
    "from gtts import gTTS\n",
    "from playsound import playsound\n",
    "import  speech_recognition as sr\n",
    "#pip install deep-translator\n",
    "from deep_translator import GoogleTranslator\n",
    "from transformers import pipeline"
   ]
  },
  {
   "cell_type": "code",
   "execution_count": 5,
   "id": "7946de89",
   "metadata": {},
   "outputs": [
    {
     "name": "stdout",
     "output_type": "stream",
     "text": [
      "Say something....\n",
      "result2:\n",
      "{   'alternative': [   {   'confidence': 0.987629,\n",
      "                           'transcript': \"I'm so excited to learn something \"\n",
      "                                         'new'}],\n",
      "    'final': True}\n",
      "I'm so excited to learn something new\n"
     ]
    }
   ],
   "source": [
    "r=sr.Recognizer()\n",
    "with sr.Microphone() as src:\n",
    "    print('Say something....')\n",
    "    audio=r.listen(src)\n",
    "try:\n",
    "    t=r.recognize_google(audio,language='en-US')\n",
    "    print(t)\n",
    "    obj=gTTS(text=t,lang='en',slow=False)\n",
    "    obj.save('c:/files/inputtextjupyter.mp3')\n",
    "    playsound('c:/files/inputtextjupyter.mp3')\n",
    "except sr.UnknownValueError as U:\n",
    "    print(U)\n",
    "except sr.RequestError as R:\n",
    "    print(R)"
   ]
  },
  {
   "cell_type": "markdown",
   "id": "8c5a7bcb",
   "metadata": {},
   "source": [
    "# 2-Step2 : translate english  text "
   ]
  },
  {
   "cell_type": "code",
   "execution_count": 6,
   "id": "d6e6289d",
   "metadata": {},
   "outputs": [
    {
     "name": "stdout",
     "output_type": "stream",
     "text": [
      "أنا متحمس جدًا لتعلم شيء جديد\n"
     ]
    }
   ],
   "source": [
    "translated = GoogleTranslator(source='auto', target='ar').translate(t) \n",
    "print(translated)\n",
    "obj=gTTS(text=translated,lang='ar',slow=False)\n",
    "obj.save('c:/files/outputtextjupyter.mp3')\n",
    "playsound('c:/files/outputtextjupyter.mp3')"
   ]
  },
  {
   "cell_type": "markdown",
   "id": "f5ac9834",
   "metadata": {},
   "source": [
    " # 3-Step3 : sentiment analysis from english text with distilBert"
   ]
  },
  {
   "cell_type": "code",
   "execution_count": null,
   "id": "419e6dfd",
   "metadata": {},
   "outputs": [
    {
     "name": "stderr",
     "output_type": "stream",
     "text": [
      "No model was supplied, defaulted to distilbert-base-uncased-finetuned-sst-2-english (https://huggingface.co/distilbert-base-uncased-finetuned-sst-2-english)\n"
     ]
    },
    {
     "data": {
      "application/vnd.jupyter.widget-view+json": {
       "model_id": "c46e7ea9973d4113912090edeb62150e",
       "version_major": 2,
       "version_minor": 0
      },
      "text/plain": [
       "Downloading:   0%|          | 0.00/629 [00:00<?, ?B/s]"
      ]
     },
     "metadata": {},
     "output_type": "display_data"
    },
    {
     "data": {
      "application/vnd.jupyter.widget-view+json": {
       "model_id": "d8e733214ca74452a4d28e49a33e739c",
       "version_major": 2,
       "version_minor": 0
      },
      "text/plain": [
       "Downloading:   0%|          | 0.00/255M [00:00<?, ?B/s]"
      ]
     },
     "metadata": {},
     "output_type": "display_data"
    }
   ],
   "source": [
    "#sentiment analysis   with distilbert-base-uncased-finetuned-sst-2-english\n",
    "classifier = pipeline(\"sentiment-analysis\")    \n",
    "result = classifier(t)[0]    \n",
    "label = result['label']    \n",
    "score = result['score']\n",
    "classifier = pipeline(\"sentiment-analysis\")\n",
    "result = classifier(t)[0]\n",
    "label = result['label']\n",
    "score = result['score']\n",
    "if label == 'POSITIVE':\n",
    "        print(f'{label} sentiment (score: {score})')\n",
    "else:\n",
    "        print(f'{label} sentiment (score: {score})')\n",
    "    "
   ]
  },
  {
   "cell_type": "code",
   "execution_count": null,
   "id": "13ddbdfd",
   "metadata": {},
   "outputs": [],
   "source": []
  }
 ],
 "metadata": {
  "kernelspec": {
   "display_name": "Python 3 (ipykernel)",
   "language": "python",
   "name": "python3"
  },
  "language_info": {
   "codemirror_mode": {
    "name": "ipython",
    "version": 3
   },
   "file_extension": ".py",
   "mimetype": "text/x-python",
   "name": "python",
   "nbconvert_exporter": "python",
   "pygments_lexer": "ipython3",
   "version": "3.9.7"
  }
 },
 "nbformat": 4,
 "nbformat_minor": 5
}
